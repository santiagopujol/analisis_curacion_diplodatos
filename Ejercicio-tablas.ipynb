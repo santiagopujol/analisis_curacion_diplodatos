{
 "cells": [
  {
   "cell_type": "code",
   "execution_count": 16,
   "metadata": {},
   "outputs": [],
   "source": [
    "%matplotlib inline\n",
    "from matplotlib import pyplot as plt\n",
    "import pandas as pd\n",
    "import numpy as np\n",
    "import json\n",
    "import seaborn"
   ]
  },
  {
   "cell_type": "code",
   "execution_count": 17,
   "metadata": {},
   "outputs": [],
   "source": [
    "import sys\n",
    "in_colab = 'google.colab' in sys.modules\n",
    "\n",
    "if in_colab:\n",
    "  BASE_DIR = \"https://github.com/DiploDatos/AnalisisYCuracion/raw/master/\"\n",
    "else:\n",
    "  BASE_DIR = \"..\""
   ]
  },
  {
   "cell_type": "code",
   "execution_count": 18,
   "metadata": {},
   "outputs": [
    {
     "data": {
      "text/html": [
       "<div>\n",
       "<style scoped>\n",
       "    .dataframe tbody tr th:only-of-type {\n",
       "        vertical-align: middle;\n",
       "    }\n",
       "\n",
       "    .dataframe tbody tr th {\n",
       "        vertical-align: top;\n",
       "    }\n",
       "\n",
       "    .dataframe thead th {\n",
       "        text-align: right;\n",
       "    }\n",
       "</style>\n",
       "<table border=\"1\" class=\"dataframe\">\n",
       "  <thead>\n",
       "    <tr style=\"text-align: right;\">\n",
       "      <th></th>\n",
       "      <th>Sex</th>\n",
       "      <th>Agemos</th>\n",
       "      <th>L</th>\n",
       "      <th>M</th>\n",
       "      <th>S</th>\n",
       "      <th>P3</th>\n",
       "      <th>P5</th>\n",
       "      <th>P10</th>\n",
       "      <th>P25</th>\n",
       "      <th>P50</th>\n",
       "      <th>P75</th>\n",
       "      <th>P90</th>\n",
       "      <th>P95</th>\n",
       "      <th>P97</th>\n",
       "    </tr>\n",
       "  </thead>\n",
       "  <tbody>\n",
       "    <tr>\n",
       "      <th>0</th>\n",
       "      <td>1</td>\n",
       "      <td>0.0</td>\n",
       "      <td>1.815151</td>\n",
       "      <td>3.530203</td>\n",
       "      <td>0.152385</td>\n",
       "      <td>2.355451</td>\n",
       "      <td>2.526904</td>\n",
       "      <td>2.773802</td>\n",
       "      <td>3.150611</td>\n",
       "      <td>3.530203</td>\n",
       "      <td>3.879077</td>\n",
       "      <td>4.172493</td>\n",
       "      <td>4.340293</td>\n",
       "      <td>4.446488</td>\n",
       "    </tr>\n",
       "    <tr>\n",
       "      <th>1</th>\n",
       "      <td>1</td>\n",
       "      <td>0.5</td>\n",
       "      <td>1.547523</td>\n",
       "      <td>4.003106</td>\n",
       "      <td>0.146025</td>\n",
       "      <td>2.799549</td>\n",
       "      <td>2.964656</td>\n",
       "      <td>3.209510</td>\n",
       "      <td>3.597396</td>\n",
       "      <td>4.003106</td>\n",
       "      <td>4.387423</td>\n",
       "      <td>4.718161</td>\n",
       "      <td>4.910130</td>\n",
       "      <td>5.032625</td>\n",
       "    </tr>\n",
       "    <tr>\n",
       "      <th>2</th>\n",
       "      <td>1</td>\n",
       "      <td>1.5</td>\n",
       "      <td>1.068796</td>\n",
       "      <td>4.879525</td>\n",
       "      <td>0.136479</td>\n",
       "      <td>3.614688</td>\n",
       "      <td>3.774849</td>\n",
       "      <td>4.020561</td>\n",
       "      <td>4.428873</td>\n",
       "      <td>4.879525</td>\n",
       "      <td>5.327328</td>\n",
       "      <td>5.728153</td>\n",
       "      <td>5.967102</td>\n",
       "      <td>6.121929</td>\n",
       "    </tr>\n",
       "    <tr>\n",
       "      <th>3</th>\n",
       "      <td>1</td>\n",
       "      <td>2.5</td>\n",
       "      <td>0.695974</td>\n",
       "      <td>5.672889</td>\n",
       "      <td>0.129678</td>\n",
       "      <td>4.342341</td>\n",
       "      <td>4.503255</td>\n",
       "      <td>4.754479</td>\n",
       "      <td>5.183378</td>\n",
       "      <td>5.672889</td>\n",
       "      <td>6.175598</td>\n",
       "      <td>6.638979</td>\n",
       "      <td>6.921119</td>\n",
       "      <td>7.106250</td>\n",
       "    </tr>\n",
       "    <tr>\n",
       "      <th>4</th>\n",
       "      <td>1</td>\n",
       "      <td>3.5</td>\n",
       "      <td>0.419815</td>\n",
       "      <td>6.391392</td>\n",
       "      <td>0.124717</td>\n",
       "      <td>4.992898</td>\n",
       "      <td>5.157412</td>\n",
       "      <td>5.416803</td>\n",
       "      <td>5.866806</td>\n",
       "      <td>6.391392</td>\n",
       "      <td>6.942217</td>\n",
       "      <td>7.460702</td>\n",
       "      <td>7.781401</td>\n",
       "      <td>7.993878</td>\n",
       "    </tr>\n",
       "    <tr>\n",
       "      <th>5</th>\n",
       "      <td>1</td>\n",
       "      <td>4.5</td>\n",
       "      <td>0.219867</td>\n",
       "      <td>7.041836</td>\n",
       "      <td>0.121040</td>\n",
       "      <td>5.575169</td>\n",
       "      <td>5.744752</td>\n",
       "      <td>6.013716</td>\n",
       "      <td>6.484969</td>\n",
       "      <td>7.041836</td>\n",
       "      <td>7.635323</td>\n",
       "      <td>8.202193</td>\n",
       "      <td>8.556813</td>\n",
       "      <td>8.793444</td>\n",
       "    </tr>\n",
       "    <tr>\n",
       "      <th>6</th>\n",
       "      <td>1</td>\n",
       "      <td>5.5</td>\n",
       "      <td>0.077506</td>\n",
       "      <td>7.630425</td>\n",
       "      <td>0.118271</td>\n",
       "      <td>6.096775</td>\n",
       "      <td>6.272175</td>\n",
       "      <td>6.551379</td>\n",
       "      <td>7.043627</td>\n",
       "      <td>7.630425</td>\n",
       "      <td>8.262033</td>\n",
       "      <td>8.871384</td>\n",
       "      <td>9.255615</td>\n",
       "      <td>9.513307</td>\n",
       "    </tr>\n",
       "    <tr>\n",
       "      <th>7</th>\n",
       "      <td>1</td>\n",
       "      <td>6.5</td>\n",
       "      <td>-0.021908</td>\n",
       "      <td>8.162951</td>\n",
       "      <td>0.116154</td>\n",
       "      <td>6.564430</td>\n",
       "      <td>6.745993</td>\n",
       "      <td>7.035656</td>\n",
       "      <td>7.548346</td>\n",
       "      <td>8.162951</td>\n",
       "      <td>8.828786</td>\n",
       "      <td>9.475466</td>\n",
       "      <td>9.885436</td>\n",
       "      <td>10.161350</td>\n",
       "    </tr>\n",
       "    <tr>\n",
       "      <th>8</th>\n",
       "      <td>1</td>\n",
       "      <td>7.5</td>\n",
       "      <td>-0.089441</td>\n",
       "      <td>8.644832</td>\n",
       "      <td>0.114510</td>\n",
       "      <td>6.984123</td>\n",
       "      <td>7.171952</td>\n",
       "      <td>7.472021</td>\n",
       "      <td>8.004399</td>\n",
       "      <td>8.644832</td>\n",
       "      <td>9.341490</td>\n",
       "      <td>10.021014</td>\n",
       "      <td>10.453314</td>\n",
       "      <td>10.744924</td>\n",
       "    </tr>\n",
       "    <tr>\n",
       "      <th>9</th>\n",
       "      <td>1</td>\n",
       "      <td>8.5</td>\n",
       "      <td>-0.133409</td>\n",
       "      <td>9.081120</td>\n",
       "      <td>0.113217</td>\n",
       "      <td>7.361236</td>\n",
       "      <td>7.555287</td>\n",
       "      <td>7.865533</td>\n",
       "      <td>8.416719</td>\n",
       "      <td>9.081120</td>\n",
       "      <td>9.805593</td>\n",
       "      <td>10.514064</td>\n",
       "      <td>10.965736</td>\n",
       "      <td>11.270838</td>\n",
       "    </tr>\n",
       "  </tbody>\n",
       "</table>\n",
       "</div>"
      ],
      "text/plain": [
       "   Sex  Agemos         L         M         S        P3        P5       P10  \\\n",
       "0    1     0.0  1.815151  3.530203  0.152385  2.355451  2.526904  2.773802   \n",
       "1    1     0.5  1.547523  4.003106  0.146025  2.799549  2.964656  3.209510   \n",
       "2    1     1.5  1.068796  4.879525  0.136479  3.614688  3.774849  4.020561   \n",
       "3    1     2.5  0.695974  5.672889  0.129678  4.342341  4.503255  4.754479   \n",
       "4    1     3.5  0.419815  6.391392  0.124717  4.992898  5.157412  5.416803   \n",
       "5    1     4.5  0.219867  7.041836  0.121040  5.575169  5.744752  6.013716   \n",
       "6    1     5.5  0.077506  7.630425  0.118271  6.096775  6.272175  6.551379   \n",
       "7    1     6.5 -0.021908  8.162951  0.116154  6.564430  6.745993  7.035656   \n",
       "8    1     7.5 -0.089441  8.644832  0.114510  6.984123  7.171952  7.472021   \n",
       "9    1     8.5 -0.133409  9.081120  0.113217  7.361236  7.555287  7.865533   \n",
       "\n",
       "        P25       P50       P75        P90        P95        P97  \n",
       "0  3.150611  3.530203  3.879077   4.172493   4.340293   4.446488  \n",
       "1  3.597396  4.003106  4.387423   4.718161   4.910130   5.032625  \n",
       "2  4.428873  4.879525  5.327328   5.728153   5.967102   6.121929  \n",
       "3  5.183378  5.672889  6.175598   6.638979   6.921119   7.106250  \n",
       "4  5.866806  6.391392  6.942217   7.460702   7.781401   7.993878  \n",
       "5  6.484969  7.041836  7.635323   8.202193   8.556813   8.793444  \n",
       "6  7.043627  7.630425  8.262033   8.871384   9.255615   9.513307  \n",
       "7  7.548346  8.162951  8.828786   9.475466   9.885436  10.161350  \n",
       "8  8.004399  8.644832  9.341490  10.021014  10.453314  10.744924  \n",
       "9  8.416719  9.081120  9.805593  10.514064  10.965736  11.270838  "
      ]
     },
     "execution_count": 18,
     "metadata": {},
     "output_type": "execute_result"
    }
   ],
   "source": [
    "tabla_1 = pd.read_csv(BASE_DIR + \"/input/wtageinf.csv\")\n",
    "tabla_1.head(10)"
   ]
  },
  {
   "cell_type": "code",
   "execution_count": 19,
   "metadata": {},
   "outputs": [
    {
     "data": {
      "text/plain": [
       "Sex         int64\n",
       "Agemos    float64\n",
       "L         float64\n",
       "M         float64\n",
       "S         float64\n",
       "P3        float64\n",
       "P5        float64\n",
       "P10       float64\n",
       "P25       float64\n",
       "P50       float64\n",
       "P75       float64\n",
       "P90       float64\n",
       "P95       float64\n",
       "P97       float64\n",
       "dtype: object"
      ]
     },
     "execution_count": 19,
     "metadata": {},
     "output_type": "execute_result"
    }
   ],
   "source": [
    "tabla_1.dtypes"
   ]
  },
  {
   "cell_type": "code",
   "execution_count": 20,
   "metadata": {},
   "outputs": [
    {
     "data": {
      "text/plain": [
       "Index(['Sex', 'Agemos', 'L', 'M', 'S', 'P3', 'P5', 'P10', 'P25', 'P50', 'P75',\n",
       "       'P90', 'P95', 'P97'],\n",
       "      dtype='object')"
      ]
     },
     "execution_count": 20,
     "metadata": {},
     "output_type": "execute_result"
    }
   ],
   "source": [
    "tabla_1.columns"
   ]
  },
  {
   "cell_type": "code",
   "execution_count": 21,
   "metadata": {},
   "outputs": [
    {
     "data": {
      "image/png": "[encoded data removed]",
      "text/plain": [
       "<Figure size 432x288 with 1 Axes>"
      ]
     },
     "metadata": {
      "needs_background": "light"
     },
     "output_type": "display_data"
    }
   ],
   "source": [
    "filtrado= tabla_1[tabla_1.Sex==1]\n",
    "filtrado.plot(x='Agemos', y='P3');"
   ]
  },
  {
   "cell_type": "code",
   "execution_count": 22,
   "metadata": {},
   "outputs": [
    {
     "data": {
      "image/png": "[encoded data removed]",
      "text/plain": [
       "<Figure size 432x288 with 1 Axes>"
      ]
     },
     "metadata": {
      "needs_background": "light"
     },
     "output_type": "display_data"
    }
   ],
   "source": [
    "filtrado= tabla_1[tabla_1.Sex==2]\n",
    "filtrado.plot(x='Agemos', y='P3');"
   ]
  },
  {
   "cell_type": "code",
   "execution_count": 23,
   "metadata": {},
   "outputs": [
    {
     "data": {
      "text/html": [
       "<div>\n",
       "<style scoped>\n",
       "    .dataframe tbody tr th:only-of-type {\n",
       "        vertical-align: middle;\n",
       "    }\n",
       "\n",
       "    .dataframe tbody tr th {\n",
       "        vertical-align: top;\n",
       "    }\n",
       "\n",
       "    .dataframe thead th {\n",
       "        text-align: right;\n",
       "    }\n",
       "</style>\n",
       "<table border=\"1\" class=\"dataframe\">\n",
       "  <thead>\n",
       "    <tr style=\"text-align: right;\">\n",
       "      <th></th>\n",
       "      <th>location</th>\n",
       "      <th>name</th>\n",
       "      <th>province</th>\n",
       "    </tr>\n",
       "  </thead>\n",
       "  <tbody>\n",
       "    <tr>\n",
       "      <th>0</th>\n",
       "      <td>[-54.832543, -68.3712885]</td>\n",
       "      <td>SAN SEBASTIAN  ( USHUAIA )</td>\n",
       "      <td>Tierra del Fuego</td>\n",
       "    </tr>\n",
       "    <tr>\n",
       "      <th>1</th>\n",
       "      <td>[-54.8249379, -68.3258626]</td>\n",
       "      <td>AERO PUBLICO DE USHUAIA</td>\n",
       "      <td>Tierra del Fuego</td>\n",
       "    </tr>\n",
       "    <tr>\n",
       "      <th>2</th>\n",
       "      <td>[-54.8096728, -68.3114748]</td>\n",
       "      <td>PUERTO USHUAIA (PREFECTURA)</td>\n",
       "      <td>Tierra del Fuego</td>\n",
       "    </tr>\n",
       "    <tr>\n",
       "      <th>3</th>\n",
       "      <td>[-54.8019121, -68.3029511]</td>\n",
       "      <td>PUERTO USHUAIA</td>\n",
       "      <td>Tierra del Fuego</td>\n",
       "    </tr>\n",
       "    <tr>\n",
       "      <th>4</th>\n",
       "      <td>[-51.6896359, -72.2993574]</td>\n",
       "      <td>PASO LAURITA CASAS VIEJAS</td>\n",
       "      <td>Santa Cruz</td>\n",
       "    </tr>\n",
       "    <tr>\n",
       "      <th>5</th>\n",
       "      <td>[-51.5866042, -72.3649779]</td>\n",
       "      <td>PASO DOROTEA</td>\n",
       "      <td>Santa Cruz</td>\n",
       "    </tr>\n",
       "    <tr>\n",
       "      <th>6</th>\n",
       "      <td>[-51.2544488, -72.2652242]</td>\n",
       "      <td>PASO RIO DON GUILLERMO</td>\n",
       "      <td>Santa Cruz</td>\n",
       "    </tr>\n",
       "    <tr>\n",
       "      <th>7</th>\n",
       "      <td>[-53.3229179, -68.6063227]</td>\n",
       "      <td>PASO SAN SEBASTIAN</td>\n",
       "      <td>Tierra del Fuego</td>\n",
       "    </tr>\n",
       "    <tr>\n",
       "      <th>8</th>\n",
       "      <td>[-53.78438, -67.7173342]</td>\n",
       "      <td>TERMINAL RIO GRANDE</td>\n",
       "      <td>Tierra del Fuego</td>\n",
       "    </tr>\n",
       "    <tr>\n",
       "      <th>9</th>\n",
       "      <td>[-53.7860374, -67.7002243]</td>\n",
       "      <td>PUERTO RIO GRANDE</td>\n",
       "      <td>Tierra del Fuego</td>\n",
       "    </tr>\n",
       "  </tbody>\n",
       "</table>\n",
       "</div>"
      ],
      "text/plain": [
       "                     location                         name          province\n",
       "0   [-54.832543, -68.3712885]   SAN SEBASTIAN  ( USHUAIA )  Tierra del Fuego\n",
       "1  [-54.8249379, -68.3258626]      AERO PUBLICO DE USHUAIA  Tierra del Fuego\n",
       "2  [-54.8096728, -68.3114748]  PUERTO USHUAIA (PREFECTURA)  Tierra del Fuego\n",
       "3  [-54.8019121, -68.3029511]               PUERTO USHUAIA  Tierra del Fuego\n",
       "4  [-51.6896359, -72.2993574]    PASO LAURITA CASAS VIEJAS        Santa Cruz\n",
       "5  [-51.5866042, -72.3649779]                 PASO DOROTEA        Santa Cruz\n",
       "6  [-51.2544488, -72.2652242]       PASO RIO DON GUILLERMO        Santa Cruz\n",
       "7  [-53.3229179, -68.6063227]           PASO SAN SEBASTIAN  Tierra del Fuego\n",
       "8    [-53.78438, -67.7173342]          TERMINAL RIO GRANDE  Tierra del Fuego\n",
       "9  [-53.7860374, -67.7002243]            PUERTO RIO GRANDE  Tierra del Fuego"
      ]
     },
     "execution_count": 23,
     "metadata": {},
     "output_type": "execute_result"
    }
   ],
   "source": [
    "with open('../input/pasos.json', 'r') as f:\n",
    "    data = json.load(f)\n",
    "df_json = pd.DataFrame(data)\n",
    "\n",
    "df_json.head(10)"
   ]
  },
  {
   "cell_type": "code",
   "execution_count": 24,
   "metadata": {},
   "outputs": [],
   "source": [
    "df_json.columns\n",
    "df_json = df_json.dropna(subset=['province', 'name', 'location'])"
   ]
  },
  {
   "cell_type": "code",
   "execution_count": 29,
   "metadata": {},
   "outputs": [
    {
     "data": {
      "image/png": "[encoded data removed]",
      "text/plain": [
       "<Figure size 432x288 with 1 Axes>"
      ]
     },
     "metadata": {
      "needs_background": "light"
     },
     "output_type": "display_data"
    }
   ],
   "source": [
    "plot = df_json['province'].value_counts().plot(kind='bar',\n",
    "                                            title='PASOS POR PROVINCIA')"
   ]
  },
  {
   "cell_type": "code",
   "execution_count": null,
   "metadata": {},
   "outputs": [],
   "source": []
  },
  {
   "cell_type": "code",
   "execution_count": null,
   "metadata": {},
   "outputs": [],
   "source": []
  }
 ],
 "metadata": {
  "kernelspec": {
   "display_name": "Python 3",
   "language": "python",
   "name": "python3"
  },
  "language_info": {
   "codemirror_mode": {
    "name": "ipython",
    "version": 3
   },
   "file_extension": ".py",
   "mimetype": "text/x-python",
   "name": "python",
   "nbconvert_exporter": "python",
   "pygments_lexer": "ipython3",
   "version": "3.7.3"
  }
 },
 "nbformat": 4,
 "nbformat_minor": 2
}
